{
 "cells": [
  {
   "cell_type": "code",
   "execution_count": 2,
   "id": "b032bf0b",
   "metadata": {},
   "outputs": [],
   "source": [
    "import pandas as pd\n",
    "import numpy as np\n",
    "import joblib\n",
    "from sklearn.preprocessing import LabelEncoder\n",
    "from sklearn.model_selection import train_test_split  \n",
    "from sklearn.ensemble import RandomForestRegressor\n",
    "from sklearn.metrics import mean_absolute_error\n",
    "from sklearn.metrics import r2_score\n"
   ]
  },
  {
   "cell_type": "code",
   "execution_count": 3,
   "id": "0b987407",
   "metadata": {},
   "outputs": [],
   "source": [
    "df=pd.read_csv(\"C:/Users/user/Informatics/Project/crop_production.csv\")"
   ]
  },
  {
   "cell_type": "markdown",
   "id": "e52ac6df",
   "metadata": {},
   "source": [
    "## Data cleaning "
   ]
  },
  {
   "cell_type": "code",
   "execution_count": 4,
   "id": "42e2d750",
   "metadata": {},
   "outputs": [
    {
     "data": {
      "text/html": [
       "<div>\n",
       "<style scoped>\n",
       "    .dataframe tbody tr th:only-of-type {\n",
       "        vertical-align: middle;\n",
       "    }\n",
       "\n",
       "    .dataframe tbody tr th {\n",
       "        vertical-align: top;\n",
       "    }\n",
       "\n",
       "    .dataframe thead th {\n",
       "        text-align: right;\n",
       "    }\n",
       "</style>\n",
       "<table border=\"1\" class=\"dataframe\">\n",
       "  <thead>\n",
       "    <tr style=\"text-align: right;\">\n",
       "      <th></th>\n",
       "      <th>State_Name</th>\n",
       "      <th>District_Name</th>\n",
       "      <th>Crop_Year</th>\n",
       "      <th>Season</th>\n",
       "      <th>Crop</th>\n",
       "      <th>Area</th>\n",
       "      <th>Production</th>\n",
       "    </tr>\n",
       "  </thead>\n",
       "  <tbody>\n",
       "    <tr>\n",
       "      <th>0</th>\n",
       "      <td>Andaman and Nicobar Islands</td>\n",
       "      <td>NICOBARS</td>\n",
       "      <td>2000</td>\n",
       "      <td>Kharif</td>\n",
       "      <td>Arecanut</td>\n",
       "      <td>1254.0</td>\n",
       "      <td>2000.0</td>\n",
       "    </tr>\n",
       "    <tr>\n",
       "      <th>1</th>\n",
       "      <td>Andaman and Nicobar Islands</td>\n",
       "      <td>NICOBARS</td>\n",
       "      <td>2000</td>\n",
       "      <td>Kharif</td>\n",
       "      <td>Other Kharif pulses</td>\n",
       "      <td>2.0</td>\n",
       "      <td>1.0</td>\n",
       "    </tr>\n",
       "    <tr>\n",
       "      <th>2</th>\n",
       "      <td>Andaman and Nicobar Islands</td>\n",
       "      <td>NICOBARS</td>\n",
       "      <td>2000</td>\n",
       "      <td>Kharif</td>\n",
       "      <td>Rice</td>\n",
       "      <td>102.0</td>\n",
       "      <td>321.0</td>\n",
       "    </tr>\n",
       "    <tr>\n",
       "      <th>3</th>\n",
       "      <td>Andaman and Nicobar Islands</td>\n",
       "      <td>NICOBARS</td>\n",
       "      <td>2000</td>\n",
       "      <td>Whole Year</td>\n",
       "      <td>Banana</td>\n",
       "      <td>176.0</td>\n",
       "      <td>641.0</td>\n",
       "    </tr>\n",
       "    <tr>\n",
       "      <th>4</th>\n",
       "      <td>Andaman and Nicobar Islands</td>\n",
       "      <td>NICOBARS</td>\n",
       "      <td>2000</td>\n",
       "      <td>Whole Year</td>\n",
       "      <td>Cashewnut</td>\n",
       "      <td>720.0</td>\n",
       "      <td>165.0</td>\n",
       "    </tr>\n",
       "  </tbody>\n",
       "</table>\n",
       "</div>"
      ],
      "text/plain": [
       "                    State_Name District_Name  Crop_Year       Season  \\\n",
       "0  Andaman and Nicobar Islands      NICOBARS       2000  Kharif        \n",
       "1  Andaman and Nicobar Islands      NICOBARS       2000  Kharif        \n",
       "2  Andaman and Nicobar Islands      NICOBARS       2000  Kharif        \n",
       "3  Andaman and Nicobar Islands      NICOBARS       2000  Whole Year    \n",
       "4  Andaman and Nicobar Islands      NICOBARS       2000  Whole Year    \n",
       "\n",
       "                  Crop    Area  Production  \n",
       "0             Arecanut  1254.0      2000.0  \n",
       "1  Other Kharif pulses     2.0         1.0  \n",
       "2                 Rice   102.0       321.0  \n",
       "3               Banana   176.0       641.0  \n",
       "4            Cashewnut   720.0       165.0  "
      ]
     },
     "execution_count": 4,
     "metadata": {},
     "output_type": "execute_result"
    }
   ],
   "source": [
    "df.head()"
   ]
  },
  {
   "cell_type": "code",
   "execution_count": 5,
   "id": "db40ff53",
   "metadata": {},
   "outputs": [
    {
     "name": "stdout",
     "output_type": "stream",
     "text": [
      "<class 'pandas.core.frame.DataFrame'>\n",
      "RangeIndex: 172377 entries, 0 to 172376\n",
      "Data columns (total 7 columns):\n",
      " #   Column         Non-Null Count   Dtype  \n",
      "---  ------         --------------   -----  \n",
      " 0   State_Name     172377 non-null  object \n",
      " 1   District_Name  172377 non-null  object \n",
      " 2   Crop_Year      172377 non-null  int64  \n",
      " 3   Season         172377 non-null  object \n",
      " 4   Crop           172377 non-null  object \n",
      " 5   Area           172377 non-null  float64\n",
      " 6   Production     172377 non-null  float64\n",
      "dtypes: float64(2), int64(1), object(4)\n",
      "memory usage: 9.2+ MB\n"
     ]
    }
   ],
   "source": [
    "df.info()"
   ]
  },
  {
   "cell_type": "code",
   "execution_count": 6,
   "id": "51a863dd",
   "metadata": {},
   "outputs": [
    {
     "data": {
      "text/plain": [
       "State_Name       0\n",
       "District_Name    0\n",
       "Crop_Year        0\n",
       "Season           0\n",
       "Crop             0\n",
       "Area             0\n",
       "Production       0\n",
       "dtype: int64"
      ]
     },
     "execution_count": 6,
     "metadata": {},
     "output_type": "execute_result"
    }
   ],
   "source": [
    "df.isnull().sum()"
   ]
  },
  {
   "cell_type": "code",
   "execution_count": 7,
   "id": "4205a77f",
   "metadata": {},
   "outputs": [],
   "source": [
    "state_counts= df['State_Name'].value_counts()"
   ]
  },
  {
   "cell_type": "code",
   "execution_count": 8,
   "id": "8407cdaa",
   "metadata": {},
   "outputs": [],
   "source": [
    "# removing states with value counts less than 1000\n",
    "df = df[df['State_Name'].isin(state_counts[state_counts >= 1000].index)]"
   ]
  },
  {
   "cell_type": "code",
   "execution_count": 9,
   "id": "81593ded",
   "metadata": {},
   "outputs": [
    {
     "data": {
      "text/plain": [
       "State_Name\n",
       "Uttar Pradesh        22707\n",
       "Madhya Pradesh       14834\n",
       "Karnataka            14236\n",
       "Assam                14088\n",
       "Bihar                13643\n",
       "Andhra Pradesh        9460\n",
       "Maharashtra           9228\n",
       "Chhattisgarh          9077\n",
       "Tamil Nadu            8081\n",
       "Rajasthan             8076\n",
       "West Bengal           6338\n",
       "Gujarat               6255\n",
       "Odisha                5653\n",
       "Uttarakhand           3769\n",
       "Telangana             3380\n",
       "Nagaland              3367\n",
       "Haryana               2916\n",
       "Arunachal Pradesh     2545\n",
       "Meghalaya             2228\n",
       "Punjab                2195\n",
       "Kerala                2012\n",
       "Himachal Pradesh      1958\n",
       "Tripura               1240\n",
       "Manipur               1080\n",
       "Name: count, dtype: int64"
      ]
     },
     "execution_count": 9,
     "metadata": {},
     "output_type": "execute_result"
    }
   ],
   "source": [
    "df['State_Name'].value_counts()"
   ]
  },
  {
   "cell_type": "code",
   "execution_count": 10,
   "id": "98d539b4",
   "metadata": {},
   "outputs": [],
   "source": [
    "year_counts= df['Crop_Year'].value_counts()"
   ]
  },
  {
   "cell_type": "code",
   "execution_count": 11,
   "id": "1f4124ac",
   "metadata": {},
   "outputs": [],
   "source": [
    "# filtering year with value counts less than 100\n",
    "df = df[df['Crop_Year'].isin(year_counts[year_counts >= 100].index)]"
   ]
  },
  {
   "cell_type": "code",
   "execution_count": 12,
   "id": "7dbcf243",
   "metadata": {},
   "outputs": [
    {
     "data": {
      "text/plain": [
       "Crop_Year\n",
       "2002    10958\n",
       "2003    10914\n",
       "2008     9915\n",
       "2009     9833\n",
       "2011     9808\n",
       "2007     9805\n",
       "2013     9711\n",
       "2006     9685\n",
       "2012     9582\n",
       "2004     9559\n",
       "2000     9541\n",
       "2010     9482\n",
       "2001     9314\n",
       "2005     9257\n",
       "1999     8735\n",
       "1998     8106\n",
       "2014     7834\n",
       "1997     6228\n",
       "Name: count, dtype: int64"
      ]
     },
     "execution_count": 12,
     "metadata": {},
     "output_type": "execute_result"
    }
   ],
   "source": [
    "df['Crop_Year'].value_counts()"
   ]
  },
  {
   "cell_type": "code",
   "execution_count": 13,
   "id": "6b1c6379",
   "metadata": {},
   "outputs": [],
   "source": [
    "area_counts=df['Area'].value_counts()"
   ]
  },
  {
   "cell_type": "code",
   "execution_count": 14,
   "id": "1140eb0f",
   "metadata": {},
   "outputs": [],
   "source": [
    "# filtering area with value counts less than 12\n",
    "df = df[df['Area'].isin(area_counts[area_counts >= 12].index)]"
   ]
  },
  {
   "cell_type": "code",
   "execution_count": 15,
   "id": "bf50da61",
   "metadata": {},
   "outputs": [
    {
     "data": {
      "text/plain": [
       "Area\n",
       "1.0       2930\n",
       "2.0       2712\n",
       "100.0     2477\n",
       "3.0       2169\n",
       "4.0       1888\n",
       "          ... \n",
       "1453.0      12\n",
       "1277.0      12\n",
       "1827.0      12\n",
       "1929.0      12\n",
       "1684.0      12\n",
       "Name: count, Length: 1785, dtype: int64"
      ]
     },
     "execution_count": 15,
     "metadata": {},
     "output_type": "execute_result"
    }
   ],
   "source": [
    "df['Area'].value_counts()"
   ]
  },
  {
   "cell_type": "code",
   "execution_count": 16,
   "id": "8a18931b",
   "metadata": {},
   "outputs": [],
   "source": [
    "crop_counts=df['Crop'].value_counts()"
   ]
  },
  {
   "cell_type": "code",
   "execution_count": 17,
   "id": "b2d2e51d",
   "metadata": {},
   "outputs": [],
   "source": [
    "# filtering crop with value counts less than 1000\n",
    "df = df[df['Crop'].isin(crop_counts[crop_counts >= 1000].index)]"
   ]
  },
  {
   "cell_type": "code",
   "execution_count": 18,
   "id": "4b0b3efb",
   "metadata": {},
   "outputs": [],
   "source": [
    "exclude_crops = [\"Other  Rabi pulses\", \"Other Kharif pulses\"]\n"
   ]
  },
  {
   "cell_type": "code",
   "execution_count": 19,
   "id": "fae802d4",
   "metadata": {},
   "outputs": [],
   "source": [
    "df = df[~df['Crop'].isin(exclude_crops)]"
   ]
  },
  {
   "cell_type": "code",
   "execution_count": 20,
   "id": "b6aaf3d0",
   "metadata": {},
   "outputs": [
    {
     "data": {
      "text/plain": [
       "Crop\n",
       "Moong(Green Gram)        6901\n",
       "Maize                    6765\n",
       "Sesamum                  5913\n",
       "Urad                     5724\n",
       "Dry chillies             5201\n",
       "Groundnut                4785\n",
       "Onion                    4729\n",
       "Sunflower                4369\n",
       "Arhar/Tur                4323\n",
       "Gram                     3789\n",
       "Turmeric                 3697\n",
       "Sweet potato             3593\n",
       "Jowar                    3576\n",
       "Linseed                  3542\n",
       "Small millets            3467\n",
       "Rapeseed &Mustard        3325\n",
       "Rice                     3305\n",
       "Peas & beans (Pulses)    3297\n",
       "Coriander                3001\n",
       "Bajra                    2962\n",
       "Garlic                   2818\n",
       "Castor seed              2766\n",
       "Potato                   2700\n",
       "Dry ginger               2561\n",
       "Ragi                     2532\n",
       "Barley                   2488\n",
       "Masoor                   2477\n",
       "Sugarcane                2307\n",
       "Horse-gram               2273\n",
       "Tobacco                  2177\n",
       "Cotton(lint)             2053\n",
       "Sannhamp                 2030\n",
       "Soyabean                 1716\n",
       "Niger seed               1578\n",
       "Wheat                    1489\n",
       "Mesta                    1462\n",
       "Banana                   1377\n",
       "Name: count, dtype: int64"
      ]
     },
     "execution_count": 20,
     "metadata": {},
     "output_type": "execute_result"
    }
   ],
   "source": [
    "df['Crop'].value_counts()"
   ]
  },
  {
   "cell_type": "code",
   "execution_count": 21,
   "id": "e7864f98",
   "metadata": {},
   "outputs": [],
   "source": [
    "district_counts=df['District_Name'].value_counts()"
   ]
  },
  {
   "cell_type": "code",
   "execution_count": 22,
   "id": "c6c4c55c",
   "metadata": {},
   "outputs": [],
   "source": [
    "# filtering district with value counts less than 200\n",
    "df = df[df['District_Name'].isin(district_counts[district_counts >= 200].index)]"
   ]
  },
  {
   "cell_type": "code",
   "execution_count": 23,
   "id": "826ee1a5",
   "metadata": {},
   "outputs": [
    {
     "data": {
      "text/plain": [
       "District_Name\n",
       "BILASPUR            536\n",
       "AURANGABAD          517\n",
       "SHIMOGA             494\n",
       "BENGALURU URBAN     492\n",
       "BANGALORE RURAL     489\n",
       "                   ... \n",
       "SHIVPURI            202\n",
       "MADURAI             201\n",
       "DATIA               201\n",
       "BETUL               200\n",
       "WEST KHASI HILLS    200\n",
       "Name: count, Length: 321, dtype: int64"
      ]
     },
     "execution_count": 23,
     "metadata": {},
     "output_type": "execute_result"
    }
   ],
   "source": [
    "df['District_Name'].value_counts()"
   ]
  },
  {
   "cell_type": "code",
   "execution_count": 24,
   "id": "5b1784f9",
   "metadata": {},
   "outputs": [],
   "source": [
    "season_counts= df['Season'].value_counts()"
   ]
  },
  {
   "cell_type": "code",
   "execution_count": 25,
   "id": "4deae75f",
   "metadata": {},
   "outputs": [],
   "source": [
    "# filtering season with value counts less than 1000\n",
    "df = df[df['Season'].isin(season_counts[season_counts >= 1000].index)]"
   ]
  },
  {
   "cell_type": "code",
   "execution_count": 26,
   "id": "fdf59626",
   "metadata": {},
   "outputs": [
    {
     "data": {
      "text/plain": [
       "Season\n",
       "Kharif         37589\n",
       "Rabi           26458\n",
       "Whole Year     18799\n",
       "Summer          7391\n",
       "Name: count, dtype: int64"
      ]
     },
     "execution_count": 26,
     "metadata": {},
     "output_type": "execute_result"
    }
   ],
   "source": [
    "df['Season'].value_counts()"
   ]
  },
  {
   "cell_type": "code",
   "execution_count": 27,
   "id": "d4e5534e",
   "metadata": {},
   "outputs": [
    {
     "name": "stdout",
     "output_type": "stream",
     "text": [
      "<class 'pandas.core.frame.DataFrame'>\n",
      "Index: 90237 entries, 202 to 172375\n",
      "Data columns (total 7 columns):\n",
      " #   Column         Non-Null Count  Dtype  \n",
      "---  ------         --------------  -----  \n",
      " 0   State_Name     90237 non-null  object \n",
      " 1   District_Name  90237 non-null  object \n",
      " 2   Crop_Year      90237 non-null  int64  \n",
      " 3   Season         90237 non-null  object \n",
      " 4   Crop           90237 non-null  object \n",
      " 5   Area           90237 non-null  float64\n",
      " 6   Production     90237 non-null  float64\n",
      "dtypes: float64(2), int64(1), object(4)\n",
      "memory usage: 5.5+ MB\n"
     ]
    }
   ],
   "source": [
    "df.info()"
   ]
  },
  {
   "cell_type": "code",
   "execution_count": 28,
   "id": "538a60ec",
   "metadata": {},
   "outputs": [
    {
     "data": {
      "text/html": [
       "<div>\n",
       "<style scoped>\n",
       "    .dataframe tbody tr th:only-of-type {\n",
       "        vertical-align: middle;\n",
       "    }\n",
       "\n",
       "    .dataframe tbody tr th {\n",
       "        vertical-align: top;\n",
       "    }\n",
       "\n",
       "    .dataframe thead th {\n",
       "        text-align: right;\n",
       "    }\n",
       "</style>\n",
       "<table border=\"1\" class=\"dataframe\">\n",
       "  <thead>\n",
       "    <tr style=\"text-align: right;\">\n",
       "      <th></th>\n",
       "      <th>State_Name</th>\n",
       "      <th>District_Name</th>\n",
       "      <th>Crop_Year</th>\n",
       "      <th>Season</th>\n",
       "      <th>Crop</th>\n",
       "      <th>Area</th>\n",
       "      <th>Production</th>\n",
       "    </tr>\n",
       "  </thead>\n",
       "  <tbody>\n",
       "    <tr>\n",
       "      <th>202</th>\n",
       "      <td>Andhra Pradesh</td>\n",
       "      <td>ANANTAPUR</td>\n",
       "      <td>1997</td>\n",
       "      <td>Kharif</td>\n",
       "      <td>Bajra</td>\n",
       "      <td>1400.0</td>\n",
       "      <td>500.0</td>\n",
       "    </tr>\n",
       "    <tr>\n",
       "      <th>203</th>\n",
       "      <td>Andhra Pradesh</td>\n",
       "      <td>ANANTAPUR</td>\n",
       "      <td>1997</td>\n",
       "      <td>Kharif</td>\n",
       "      <td>Castor seed</td>\n",
       "      <td>1000.0</td>\n",
       "      <td>100.0</td>\n",
       "    </tr>\n",
       "    <tr>\n",
       "      <th>204</th>\n",
       "      <td>Andhra Pradesh</td>\n",
       "      <td>ANANTAPUR</td>\n",
       "      <td>1997</td>\n",
       "      <td>Kharif</td>\n",
       "      <td>Cotton(lint)</td>\n",
       "      <td>7300.0</td>\n",
       "      <td>9400.0</td>\n",
       "    </tr>\n",
       "    <tr>\n",
       "      <th>205</th>\n",
       "      <td>Andhra Pradesh</td>\n",
       "      <td>ANANTAPUR</td>\n",
       "      <td>1997</td>\n",
       "      <td>Kharif</td>\n",
       "      <td>Dry chillies</td>\n",
       "      <td>3700.0</td>\n",
       "      <td>7100.0</td>\n",
       "    </tr>\n",
       "    <tr>\n",
       "      <th>207</th>\n",
       "      <td>Andhra Pradesh</td>\n",
       "      <td>ANANTAPUR</td>\n",
       "      <td>1997</td>\n",
       "      <td>Kharif</td>\n",
       "      <td>Horse-gram</td>\n",
       "      <td>3300.0</td>\n",
       "      <td>1000.0</td>\n",
       "    </tr>\n",
       "    <tr>\n",
       "      <th>...</th>\n",
       "      <td>...</td>\n",
       "      <td>...</td>\n",
       "      <td>...</td>\n",
       "      <td>...</td>\n",
       "      <td>...</td>\n",
       "      <td>...</td>\n",
       "      <td>...</td>\n",
       "    </tr>\n",
       "    <tr>\n",
       "      <th>172369</th>\n",
       "      <td>West Bengal</td>\n",
       "      <td>PURULIA</td>\n",
       "      <td>2014</td>\n",
       "      <td>Rabi</td>\n",
       "      <td>Peas &amp; beans (Pulses)</td>\n",
       "      <td>12.0</td>\n",
       "      <td>12.0</td>\n",
       "    </tr>\n",
       "    <tr>\n",
       "      <th>172372</th>\n",
       "      <td>West Bengal</td>\n",
       "      <td>PURULIA</td>\n",
       "      <td>2014</td>\n",
       "      <td>Rabi</td>\n",
       "      <td>Urad</td>\n",
       "      <td>220.0</td>\n",
       "      <td>113.0</td>\n",
       "    </tr>\n",
       "    <tr>\n",
       "      <th>172373</th>\n",
       "      <td>West Bengal</td>\n",
       "      <td>PURULIA</td>\n",
       "      <td>2014</td>\n",
       "      <td>Summer</td>\n",
       "      <td>Rice</td>\n",
       "      <td>306.0</td>\n",
       "      <td>801.0</td>\n",
       "    </tr>\n",
       "    <tr>\n",
       "      <th>172374</th>\n",
       "      <td>West Bengal</td>\n",
       "      <td>PURULIA</td>\n",
       "      <td>2014</td>\n",
       "      <td>Summer</td>\n",
       "      <td>Sesamum</td>\n",
       "      <td>627.0</td>\n",
       "      <td>463.0</td>\n",
       "    </tr>\n",
       "    <tr>\n",
       "      <th>172375</th>\n",
       "      <td>West Bengal</td>\n",
       "      <td>PURULIA</td>\n",
       "      <td>2014</td>\n",
       "      <td>Whole Year</td>\n",
       "      <td>Sugarcane</td>\n",
       "      <td>324.0</td>\n",
       "      <td>16250.0</td>\n",
       "    </tr>\n",
       "  </tbody>\n",
       "</table>\n",
       "<p>90237 rows × 7 columns</p>\n",
       "</div>"
      ],
      "text/plain": [
       "            State_Name District_Name  Crop_Year       Season  \\\n",
       "202     Andhra Pradesh     ANANTAPUR       1997  Kharif        \n",
       "203     Andhra Pradesh     ANANTAPUR       1997  Kharif        \n",
       "204     Andhra Pradesh     ANANTAPUR       1997  Kharif        \n",
       "205     Andhra Pradesh     ANANTAPUR       1997  Kharif        \n",
       "207     Andhra Pradesh     ANANTAPUR       1997  Kharif        \n",
       "...                ...           ...        ...          ...   \n",
       "172369     West Bengal       PURULIA       2014  Rabi          \n",
       "172372     West Bengal       PURULIA       2014  Rabi          \n",
       "172373     West Bengal       PURULIA       2014  Summer        \n",
       "172374     West Bengal       PURULIA       2014  Summer        \n",
       "172375     West Bengal       PURULIA       2014  Whole Year    \n",
       "\n",
       "                         Crop    Area  Production  \n",
       "202                     Bajra  1400.0       500.0  \n",
       "203               Castor seed  1000.0       100.0  \n",
       "204              Cotton(lint)  7300.0      9400.0  \n",
       "205              Dry chillies  3700.0      7100.0  \n",
       "207                Horse-gram  3300.0      1000.0  \n",
       "...                       ...     ...         ...  \n",
       "172369  Peas & beans (Pulses)    12.0        12.0  \n",
       "172372                   Urad   220.0       113.0  \n",
       "172373                   Rice   306.0       801.0  \n",
       "172374                Sesamum   627.0       463.0  \n",
       "172375              Sugarcane   324.0     16250.0  \n",
       "\n",
       "[90237 rows x 7 columns]"
      ]
     },
     "execution_count": 28,
     "metadata": {},
     "output_type": "execute_result"
    }
   ],
   "source": [
    "df"
   ]
  },
  {
   "cell_type": "markdown",
   "id": "efba67a2",
   "metadata": {},
   "source": [
    "## Encoding"
   ]
  },
  {
   "cell_type": "markdown",
   "id": "f2841527",
   "metadata": {},
   "source": [
    "#### converting categorical to numerical"
   ]
  },
  {
   "cell_type": "code",
   "execution_count": 29,
   "id": "5a54e16d",
   "metadata": {},
   "outputs": [
    {
     "name": "stdout",
     "output_type": "stream",
     "text": [
      "State_Name mapping: {'Andhra Pradesh': 0, 'Assam': 1, 'Bihar': 2, 'Chhattisgarh': 3, 'Gujarat': 4, 'Himachal Pradesh': 5, 'Karnataka': 6, 'Madhya Pradesh': 7, 'Maharashtra': 8, 'Meghalaya': 9, 'Nagaland': 10, 'Rajasthan': 11, 'Tamil Nadu': 12, 'Telangana ': 13, 'Tripura': 14, 'Uttar Pradesh': 15, 'Uttarakhand': 16, 'West Bengal': 17}\n"
     ]
    }
   ],
   "source": [
    "le_State_Name=LabelEncoder()\n",
    "df['State_Name']=le_State_Name.fit_transform(df['State_Name'])\n",
    "state_name_mapping = dict(zip(le_State_Name.classes_, le_State_Name.transform(le_State_Name.classes_)))\n",
    "print(\"State_Name mapping:\", state_name_mapping)"
   ]
  },
  {
   "cell_type": "code",
   "execution_count": 30,
   "id": "997f9c8b",
   "metadata": {},
   "outputs": [
    {
     "name": "stdout",
     "output_type": "stream",
     "text": [
      "District_Name mapping: {'24 PARAGANAS SOUTH': 0, 'ADILABAD': 1, 'AGRA': 2, 'AHMADABAD': 3, 'AHMEDNAGAR': 4, 'ALIGARH': 5, 'ALLAHABAD': 6, 'AMBEDKAR NAGAR': 7, 'AMRAVATI': 8, 'AMRELI': 9, 'AMROHA': 10, 'ANANTAPUR': 11, 'ARARIA': 12, 'ARWAL': 13, 'AURAIYA': 14, 'AURANGABAD': 15, 'AZAMGARH': 16, 'BAGALKOT': 17, 'BAGESHWAR': 18, 'BAGHPAT': 19, 'BAHRAICH': 20, 'BAKSA': 21, 'BALAGHAT': 22, 'BALLIA': 23, 'BALRAMPUR': 24, 'BANDA': 25, 'BANGALORE RURAL': 26, 'BANKA': 27, 'BANKURA': 28, 'BANSWARA': 29, 'BARABANKI': 30, 'BARAN': 31, 'BARDHAMAN': 32, 'BAREILLY': 33, 'BARPETA': 34, 'BARWANI': 35, 'BASTAR': 36, 'BASTI': 37, 'BEED': 38, 'BEGUSARAI': 39, 'BELGAUM': 40, 'BELLARY': 41, 'BENGALURU URBAN': 42, 'BETUL': 43, 'BHAGALPUR': 44, 'BHANDARA': 45, 'BHARATPUR': 46, 'BHARUCH': 47, 'BHAVNAGAR': 48, 'BHOJPUR': 49, 'BHOPAL': 50, 'BIDAR': 51, 'BIJAPUR': 52, 'BIJNOR': 53, 'BILASPUR': 54, 'BIRBHUM': 55, 'BONGAIGAON': 56, 'BUDAUN': 57, 'BULANDSHAHR': 58, 'BUXAR': 59, 'CACHAR': 60, 'CHAMARAJANAGAR': 61, 'CHAMPAWAT': 62, 'CHANDAULI': 63, 'CHHATARPUR': 64, 'CHHINDWARA': 65, 'CHIKBALLAPUR': 66, 'CHIKMAGALUR': 67, 'CHIRANG': 68, 'CHITRADURGA': 69, 'CHITRAKOOT': 70, 'CHITTOOR': 71, 'COOCHBEHAR': 72, 'DAMOH': 73, 'DANTEWADA': 74, 'DARBHANGA': 75, 'DARJEELING': 76, 'DARRANG': 77, 'DATIA': 78, 'DAUSA': 79, 'DAVANGERE': 80, 'DEHRADUN': 81, 'DEORIA': 82, 'DEWAS': 83, 'DHALAI': 84, 'DHAMTARI': 85, 'DHAR': 86, 'DHARWAD': 87, 'DHEMAJI': 88, 'DHOLPUR': 89, 'DHUBRI': 90, 'DHULE': 91, 'DIBRUGARH': 92, 'DIMA HASAO': 93, 'DIMAPUR': 94, 'DINAJPUR UTTAR': 95, 'DUNGARPUR': 96, 'DURG': 97, 'EAST GARO HILLS': 98, 'EAST GODAVARI': 99, 'ETAH': 100, 'ETAWAH': 101, 'FAIZABAD': 102, 'FARRUKHABAD': 103, 'FATEHPUR': 104, 'FIROZABAD': 105, 'GADAG': 106, 'GADCHIROLI': 107, 'GANDHINAGAR': 108, 'GAUTAM BUDDHA NAGAR': 109, 'GAYA': 110, 'GHAZIABAD': 111, 'GHAZIPUR': 112, 'GOALPARA': 113, 'GOLAGHAT': 114, 'GONDA': 115, 'GOPALGANJ': 116, 'GORAKHPUR': 117, 'GULBARGA': 118, 'GUNA': 119, 'GUNTUR': 120, 'HAILAKANDI': 121, 'HAMIRPUR': 122, 'HARDA': 123, 'HARDOI': 124, 'HARIDWAR': 125, 'HASSAN': 126, 'HATHRAS': 127, 'HAVERI': 128, 'HINGOLI': 129, 'HOOGHLY': 130, 'HOSHANGABAD': 131, 'HOWRAH': 132, 'INDORE': 133, 'JABALPUR': 134, 'JALAUN': 135, 'JALNA': 136, 'JALPAIGURI': 137, 'JAMNAGAR': 138, 'JAMUI': 139, 'JANJGIR-CHAMPA': 140, 'JASHPUR': 141, 'JAUNPUR': 142, 'JEHANABAD': 143, 'JHABUA': 144, 'JHALAWAR': 145, 'JHANSI': 146, 'JORHAT': 147, 'JUNAGADH': 148, 'KABIRDHAM': 149, 'KADAPA': 150, 'KAIMUR (BHABUA)': 151, 'KAMRUP': 152, 'KAMRUP METRO': 153, 'KANCHIPURAM': 154, 'KANKER': 155, 'KANNAUJ': 156, 'KANPUR NAGAR': 157, 'KARAULI': 158, 'KARBI ANGLONG': 159, 'KARIMGANJ': 160, 'KARIMNAGAR': 161, 'KATIHAR': 162, 'KATNI': 163, 'KAUSHAMBI': 164, 'KHAGARIA': 165, 'KHAMMAM': 166, 'KHANDWA': 167, 'KHARGONE': 168, 'KHEDA': 169, 'KHERI': 170, 'KISHANGANJ': 171, 'KODAGU': 172, 'KOHIMA': 173, 'KOKRAJHAR': 174, 'KOLAR': 175, 'KOLHAPUR': 176, 'KORBA': 177, 'KOREA': 178, 'KRISHNA': 179, 'KURNOOL': 180, 'KUSHI NAGAR': 181, 'LAKHIMPUR': 182, 'LALITPUR': 183, 'LATUR': 184, 'LUCKNOW': 185, 'MADHEPURA': 186, 'MADHUBANI': 187, 'MADURAI': 188, 'MAHARAJGANJ': 189, 'MAHASAMUND': 190, 'MAHBUBNAGAR': 191, 'MAHESANA': 192, 'MAINPURI': 193, 'MALDAH': 194, 'MANDLA': 195, 'MANDSAUR': 196, 'MANDYA': 197, 'MARIGAON': 198, 'MATHURA': 199, 'MAU': 200, 'MEDAK': 201, 'MEDINIPUR WEST': 202, 'MEERUT': 203, 'MOKOKCHUNG': 204, 'MON': 205, 'MORADABAD': 206, 'MORENA': 207, 'MUNGER': 208, 'MURSHIDABAD': 209, 'MUZAFFARNAGAR': 210, 'MUZAFFARPUR': 211, 'MYSORE': 212, 'NADIA': 213, 'NAGAON': 214, 'NAGPUR': 215, 'NAINITAL': 216, 'NALANDA': 217, 'NALBARI': 218, 'NALGONDA': 219, 'NANDED': 220, 'NANDURBAR': 221, 'NARSINGHPUR': 222, 'NASHIK': 223, 'NAWADA': 224, 'NEEMUCH': 225, 'NIZAMABAD': 226, 'NORTH TRIPURA': 227, 'OSMANABAD': 228, 'PANCH MAHALS': 229, 'PANNA': 230, 'PARBHANI': 231, 'PASHCHIM CHAMPARAN': 232, 'PATNA': 233, 'PHEK': 234, 'PILIBHIT': 235, 'PRAKASAM': 236, 'PRATAPGARH': 237, 'PUDUKKOTTAI': 238, 'PUNE': 239, 'PURBI CHAMPARAN': 240, 'PURNIA': 241, 'PURULIA': 242, 'RAE BARELI': 243, 'RAICHUR': 244, 'RAIGARH': 245, 'RAIPUR': 246, 'RAISEN': 247, 'RAJNANDGAON': 248, 'RAJSAMAND': 249, 'RAMPUR': 250, 'RANGAREDDI': 251, 'RATLAM': 252, 'REWA': 253, 'ROHTAS': 254, 'RUDRA PRAYAG': 255, 'SAGAR': 256, 'SAHARANPUR': 257, 'SAHARSA': 258, 'SAMASTIPUR': 259, 'SANGLI': 260, 'SANT KABEER NAGAR': 261, 'SANT RAVIDAS NAGAR': 262, 'SARAN': 263, 'SATARA': 264, 'SATNA': 265, 'SAWAI MADHOPUR': 266, 'SEHORE': 267, 'SEONI': 268, 'SHAHDOL': 269, 'SHAHJAHANPUR': 270, 'SHAJAPUR': 271, 'SHEIKHPURA': 272, 'SHEOHAR': 273, 'SHIMOGA': 274, 'SHIVPURI': 275, 'SHRAVASTI': 276, 'SIDDHARTH NAGAR': 277, 'SIDHI': 278, 'SITAMARHI': 279, 'SITAPUR': 280, 'SIVAGANGA': 281, 'SIVASAGAR': 282, 'SIWAN': 283, 'SOLAPUR': 284, 'SONITPUR': 285, 'SOUTH GARO HILLS': 286, 'SOUTH TRIPURA': 287, 'SPSR NELLORE': 288, 'SRIKAKULAM': 289, 'SULTANPUR': 290, 'SUPAUL': 291, 'SURAT': 292, 'SURGUJA': 293, 'THANE': 294, 'THENI': 295, 'TINSUKIA': 296, 'TIRUNELVELI': 297, 'TUENSANG': 298, 'TUMKUR': 299, 'UDAIPUR': 300, 'UDAM SINGH NAGAR': 301, 'UJJAIN': 302, 'UMARIA': 303, 'UNNAO': 304, 'UTTAR KANNAD': 305, 'UTTAR KASHI': 306, 'VADODARA': 307, 'VAISHALI': 308, 'VALSAD': 309, 'VARANASI': 310, 'VIDISHA': 311, 'VISAKHAPATANAM': 312, 'VIZIANAGARAM': 313, 'WARANGAL': 314, 'WEST GARO HILLS': 315, 'WEST GODAVARI': 316, 'WEST KHASI HILLS': 317, 'WEST TRIPURA': 318, 'WOKHA': 319, 'ZUNHEBOTO': 320}\n"
     ]
    }
   ],
   "source": [
    "le_District_Name=LabelEncoder()\n",
    "df['District_Name']=le_District_Name.fit_transform(df['District_Name'])\n",
    "district_name_mapping = dict(zip(le_District_Name.classes_, le_District_Name.transform(le_District_Name.classes_)))\n",
    "print(\"District_Name mapping:\", district_name_mapping)"
   ]
  },
  {
   "cell_type": "code",
   "execution_count": 31,
   "id": "5515662b",
   "metadata": {},
   "outputs": [
    {
     "name": "stdout",
     "output_type": "stream",
     "text": [
      "Season mapping: {'Kharif     ': 0, 'Rabi       ': 1, 'Summer     ': 2, 'Whole Year ': 3}\n"
     ]
    }
   ],
   "source": [
    "le_Season=LabelEncoder()\n",
    "df['Season']=le_Season.fit_transform(df['Season'])\n",
    "season_mapping = dict(zip(le_Season.classes_, le_Season.transform(le_Season.classes_)))\n",
    "print(\"Season mapping:\", season_mapping)"
   ]
  },
  {
   "cell_type": "code",
   "execution_count": 32,
   "id": "338486f8",
   "metadata": {},
   "outputs": [
    {
     "name": "stdout",
     "output_type": "stream",
     "text": [
      "Crop mapping: {'Arhar/Tur': 0, 'Bajra': 1, 'Banana': 2, 'Barley': 3, 'Castor seed': 4, 'Coriander': 5, 'Cotton(lint)': 6, 'Dry chillies': 7, 'Dry ginger': 8, 'Garlic': 9, 'Gram': 10, 'Groundnut': 11, 'Horse-gram': 12, 'Jowar': 13, 'Linseed': 14, 'Maize': 15, 'Masoor': 16, 'Mesta': 17, 'Moong(Green Gram)': 18, 'Niger seed': 19, 'Onion': 20, 'Peas & beans (Pulses)': 21, 'Potato': 22, 'Ragi': 23, 'Rapeseed &Mustard': 24, 'Rice': 25, 'Sannhamp': 26, 'Sesamum': 27, 'Small millets': 28, 'Soyabean': 29, 'Sugarcane': 30, 'Sunflower': 31, 'Sweet potato': 32, 'Tobacco': 33, 'Turmeric': 34, 'Urad': 35, 'Wheat': 36}\n"
     ]
    }
   ],
   "source": [
    "le_Crop=LabelEncoder()\n",
    "df['Crop']=le_Crop.fit_transform(df['Crop'])\n",
    "crop_mapping = dict(zip(le_Crop.classes_, le_Crop.transform(le_Crop.classes_)))\n",
    "print(\"Crop mapping:\", crop_mapping)"
   ]
  },
  {
   "cell_type": "code",
   "execution_count": 33,
   "id": "0c185273",
   "metadata": {},
   "outputs": [
    {
     "data": {
      "text/html": [
       "<div>\n",
       "<style scoped>\n",
       "    .dataframe tbody tr th:only-of-type {\n",
       "        vertical-align: middle;\n",
       "    }\n",
       "\n",
       "    .dataframe tbody tr th {\n",
       "        vertical-align: top;\n",
       "    }\n",
       "\n",
       "    .dataframe thead th {\n",
       "        text-align: right;\n",
       "    }\n",
       "</style>\n",
       "<table border=\"1\" class=\"dataframe\">\n",
       "  <thead>\n",
       "    <tr style=\"text-align: right;\">\n",
       "      <th></th>\n",
       "      <th>State_Name</th>\n",
       "      <th>District_Name</th>\n",
       "      <th>Crop_Year</th>\n",
       "      <th>Season</th>\n",
       "      <th>Crop</th>\n",
       "      <th>Area</th>\n",
       "      <th>Production</th>\n",
       "    </tr>\n",
       "  </thead>\n",
       "  <tbody>\n",
       "    <tr>\n",
       "      <th>202</th>\n",
       "      <td>0</td>\n",
       "      <td>11</td>\n",
       "      <td>1997</td>\n",
       "      <td>0</td>\n",
       "      <td>1</td>\n",
       "      <td>1400.0</td>\n",
       "      <td>500.0</td>\n",
       "    </tr>\n",
       "    <tr>\n",
       "      <th>203</th>\n",
       "      <td>0</td>\n",
       "      <td>11</td>\n",
       "      <td>1997</td>\n",
       "      <td>0</td>\n",
       "      <td>4</td>\n",
       "      <td>1000.0</td>\n",
       "      <td>100.0</td>\n",
       "    </tr>\n",
       "    <tr>\n",
       "      <th>204</th>\n",
       "      <td>0</td>\n",
       "      <td>11</td>\n",
       "      <td>1997</td>\n",
       "      <td>0</td>\n",
       "      <td>6</td>\n",
       "      <td>7300.0</td>\n",
       "      <td>9400.0</td>\n",
       "    </tr>\n",
       "    <tr>\n",
       "      <th>205</th>\n",
       "      <td>0</td>\n",
       "      <td>11</td>\n",
       "      <td>1997</td>\n",
       "      <td>0</td>\n",
       "      <td>7</td>\n",
       "      <td>3700.0</td>\n",
       "      <td>7100.0</td>\n",
       "    </tr>\n",
       "    <tr>\n",
       "      <th>207</th>\n",
       "      <td>0</td>\n",
       "      <td>11</td>\n",
       "      <td>1997</td>\n",
       "      <td>0</td>\n",
       "      <td>12</td>\n",
       "      <td>3300.0</td>\n",
       "      <td>1000.0</td>\n",
       "    </tr>\n",
       "  </tbody>\n",
       "</table>\n",
       "</div>"
      ],
      "text/plain": [
       "     State_Name  District_Name  Crop_Year  Season  Crop    Area  Production\n",
       "202           0             11       1997       0     1  1400.0       500.0\n",
       "203           0             11       1997       0     4  1000.0       100.0\n",
       "204           0             11       1997       0     6  7300.0      9400.0\n",
       "205           0             11       1997       0     7  3700.0      7100.0\n",
       "207           0             11       1997       0    12  3300.0      1000.0"
      ]
     },
     "execution_count": 33,
     "metadata": {},
     "output_type": "execute_result"
    }
   ],
   "source": [
    "df.head()"
   ]
  },
  {
   "cell_type": "code",
   "execution_count": 34,
   "id": "732dad95",
   "metadata": {},
   "outputs": [],
   "source": [
    "# Saving label encoders\n",
    "label_encoders = {\n",
    "    'le_State_Name': le_State_Name,\n",
    "    'le_District_Name': le_District_Name,\n",
    "    'le_Season': le_Season,\n",
    "    'le_Crop': le_Crop\n",
    "}\n",
    "\n",
    "for encoder_name, encoder in label_encoders.items():\n",
    "    joblib.dump(encoder, f\"{encoder_name}.joblib\")"
   ]
  },
  {
   "cell_type": "markdown",
   "id": "eb6f16fd",
   "metadata": {},
   "source": [
    "### Modeling"
   ]
  },
  {
   "cell_type": "code",
   "execution_count": 35,
   "id": "6a78f63e",
   "metadata": {},
   "outputs": [],
   "source": [
    "\n",
    "x = df.drop(['Production'], axis=1)\n",
    "y = df['Production']\n"
   ]
  },
  {
   "cell_type": "code",
   "execution_count": 36,
   "id": "94ba6b02",
   "metadata": {},
   "outputs": [],
   "source": [
    "X_train, X_test, y_train, y_test = train_test_split(x, y, test_size=0.2, random_state=42)\n"
   ]
  },
  {
   "cell_type": "code",
   "execution_count": 37,
   "id": "8d6a615c",
   "metadata": {},
   "outputs": [
    {
     "data": {
      "text/html": [
       "<style>#sk-container-id-1 {color: black;}#sk-container-id-1 pre{padding: 0;}#sk-container-id-1 div.sk-toggleable {background-color: white;}#sk-container-id-1 label.sk-toggleable__label {cursor: pointer;display: block;width: 100%;margin-bottom: 0;padding: 0.3em;box-sizing: border-box;text-align: center;}#sk-container-id-1 label.sk-toggleable__label-arrow:before {content: \"▸\";float: left;margin-right: 0.25em;color: #696969;}#sk-container-id-1 label.sk-toggleable__label-arrow:hover:before {color: black;}#sk-container-id-1 div.sk-estimator:hover label.sk-toggleable__label-arrow:before {color: black;}#sk-container-id-1 div.sk-toggleable__content {max-height: 0;max-width: 0;overflow: hidden;text-align: left;background-color: #f0f8ff;}#sk-container-id-1 div.sk-toggleable__content pre {margin: 0.2em;color: black;border-radius: 0.25em;background-color: #f0f8ff;}#sk-container-id-1 input.sk-toggleable__control:checked~div.sk-toggleable__content {max-height: 200px;max-width: 100%;overflow: auto;}#sk-container-id-1 input.sk-toggleable__control:checked~label.sk-toggleable__label-arrow:before {content: \"▾\";}#sk-container-id-1 div.sk-estimator input.sk-toggleable__control:checked~label.sk-toggleable__label {background-color: #d4ebff;}#sk-container-id-1 div.sk-label input.sk-toggleable__control:checked~label.sk-toggleable__label {background-color: #d4ebff;}#sk-container-id-1 input.sk-hidden--visually {border: 0;clip: rect(1px 1px 1px 1px);clip: rect(1px, 1px, 1px, 1px);height: 1px;margin: -1px;overflow: hidden;padding: 0;position: absolute;width: 1px;}#sk-container-id-1 div.sk-estimator {font-family: monospace;background-color: #f0f8ff;border: 1px dotted black;border-radius: 0.25em;box-sizing: border-box;margin-bottom: 0.5em;}#sk-container-id-1 div.sk-estimator:hover {background-color: #d4ebff;}#sk-container-id-1 div.sk-parallel-item::after {content: \"\";width: 100%;border-bottom: 1px solid gray;flex-grow: 1;}#sk-container-id-1 div.sk-label:hover label.sk-toggleable__label {background-color: #d4ebff;}#sk-container-id-1 div.sk-serial::before {content: \"\";position: absolute;border-left: 1px solid gray;box-sizing: border-box;top: 0;bottom: 0;left: 50%;z-index: 0;}#sk-container-id-1 div.sk-serial {display: flex;flex-direction: column;align-items: center;background-color: white;padding-right: 0.2em;padding-left: 0.2em;position: relative;}#sk-container-id-1 div.sk-item {position: relative;z-index: 1;}#sk-container-id-1 div.sk-parallel {display: flex;align-items: stretch;justify-content: center;background-color: white;position: relative;}#sk-container-id-1 div.sk-item::before, #sk-container-id-1 div.sk-parallel-item::before {content: \"\";position: absolute;border-left: 1px solid gray;box-sizing: border-box;top: 0;bottom: 0;left: 50%;z-index: -1;}#sk-container-id-1 div.sk-parallel-item {display: flex;flex-direction: column;z-index: 1;position: relative;background-color: white;}#sk-container-id-1 div.sk-parallel-item:first-child::after {align-self: flex-end;width: 50%;}#sk-container-id-1 div.sk-parallel-item:last-child::after {align-self: flex-start;width: 50%;}#sk-container-id-1 div.sk-parallel-item:only-child::after {width: 0;}#sk-container-id-1 div.sk-dashed-wrapped {border: 1px dashed gray;margin: 0 0.4em 0.5em 0.4em;box-sizing: border-box;padding-bottom: 0.4em;background-color: white;}#sk-container-id-1 div.sk-label label {font-family: monospace;font-weight: bold;display: inline-block;line-height: 1.2em;}#sk-container-id-1 div.sk-label-container {text-align: center;}#sk-container-id-1 div.sk-container {/* jupyter's `normalize.less` sets `[hidden] { display: none; }` but bootstrap.min.css set `[hidden] { display: none !important; }` so we also need the `!important` here to be able to override the default hidden behavior on the sphinx rendered scikit-learn.org. See: https://github.com/scikit-learn/scikit-learn/issues/21755 */display: inline-block !important;position: relative;}#sk-container-id-1 div.sk-text-repr-fallback {display: none;}</style><div id=\"sk-container-id-1\" class=\"sk-top-container\"><div class=\"sk-text-repr-fallback\"><pre>RandomForestRegressor(random_state=42)</pre><b>In a Jupyter environment, please rerun this cell to show the HTML representation or trust the notebook. <br />On GitHub, the HTML representation is unable to render, please try loading this page with nbviewer.org.</b></div><div class=\"sk-container\" hidden><div class=\"sk-item\"><div class=\"sk-estimator sk-toggleable\"><input class=\"sk-toggleable__control sk-hidden--visually\" id=\"sk-estimator-id-1\" type=\"checkbox\" checked><label for=\"sk-estimator-id-1\" class=\"sk-toggleable__label sk-toggleable__label-arrow\">RandomForestRegressor</label><div class=\"sk-toggleable__content\"><pre>RandomForestRegressor(random_state=42)</pre></div></div></div></div></div>"
      ],
      "text/plain": [
       "RandomForestRegressor(random_state=42)"
      ]
     },
     "execution_count": 37,
     "metadata": {},
     "output_type": "execute_result"
    }
   ],
   "source": [
    "model = RandomForestRegressor(random_state=42)\n",
    "model.fit(X_train, y_train)\n"
   ]
  },
  {
   "cell_type": "code",
   "execution_count": 38,
   "id": "741d0bd1",
   "metadata": {},
   "outputs": [
    {
     "data": {
      "text/plain": [
       "['crop_production_model.joblib']"
      ]
     },
     "execution_count": 38,
     "metadata": {},
     "output_type": "execute_result"
    }
   ],
   "source": [
    "# Saving the model to a file\n",
    "joblib.dump(model, \"crop_production_model.joblib\")"
   ]
  },
  {
   "cell_type": "code",
   "execution_count": 39,
   "id": "b913e60c",
   "metadata": {},
   "outputs": [
    {
     "name": "stdout",
     "output_type": "stream",
     "text": [
      "R^2 Score: 0.8105704942933495\n"
     ]
    }
   ],
   "source": [
    "y_pred = model.predict(X_test)\n",
    "r2 = r2_score(y_test, y_pred)\n",
    "print(f'R^2 Score: {r2}')"
   ]
  },
  {
   "cell_type": "code",
   "execution_count": 40,
   "id": "b50d2eb1",
   "metadata": {},
   "outputs": [
    {
     "name": "stdout",
     "output_type": "stream",
     "text": [
      "Predicted Production: 52971.12\n"
     ]
    },
    {
     "name": "stderr",
     "output_type": "stream",
     "text": [
      "c:\\Users\\user\\miniconda3\\envs\\infoenv\\lib\\site-packages\\sklearn\\base.py:465: UserWarning: X does not have valid feature names, but RandomForestRegressor was fitted with feature names\n",
      "  warnings.warn(\n"
     ]
    }
   ],
   "source": [
    "# New data point\n",
    "x_pred = np.array([[\"Andhra Pradesh\", \"KADAPA\", 2023, \"Kharif     \", \"Sunflower\", 56100]])\n",
    "\n",
    "# Applying label encoding to the new data\n",
    "x_pred_encoded = x_pred.copy()\n",
    "x_pred_encoded[:, 0] = le_State_Name.transform(x_pred[:, 0])\n",
    "x_pred_encoded[:, 1] = le_District_Name.transform(x_pred[:, 1])\n",
    "x_pred_encoded[:, 3] = le_Season.transform(x_pred[:, 3])\n",
    "x_pred_encoded[:, 4] = le_Crop.transform(x_pred[:, 4])\n",
    "\n",
    "# Converting the encoded data to numeric values\n",
    "x_pred_encoded = x_pred_encoded.astype(float)\n",
    "\n",
    "# Making predictions using the trained model\n",
    "y_pred = model.predict(x_pred_encoded)\n",
    "\n",
    "print(f'Predicted Production: {y_pred[0]}')\n"
   ]
  },
  {
   "cell_type": "code",
   "execution_count": null,
   "metadata": {},
   "outputs": [],
   "source": [
    "# New data point\n",
    "x_pred = np.array([[\"Andhra Pradesh\", \"KADAPA\", 2023, \"Kharif     \", \"Sunflower\", 56100]])\n",
    "\n",
    "# Applying label encoding to the new data\n",
    "x_pred_encoded = x_pred.copy()\n",
    "x_pred_encoded[:, 0] = le_State_Name.transform(x_pred[:, 0])\n",
    "x_pred_encoded[:, 1] = le_District_Name.transform(x_pred[:, 1])\n",
    "x_pred_encoded[:, 3] = le_Season.transform(x_pred[:, 3])\n",
    "x_pred_encoded[:, 4] = le_Crop.transform(x_pred[:, 4])\n",
    "\n",
    "# Converting the encoded data to numeric values\n",
    "x_pred_encoded = x_pred_encoded.astype(float)\n",
    "\n",
    "# Making predictions using the trained model\n",
    "y_pred = model.predict(x_pred_encoded)\n",
    "\n",
    "print(f'Predicted Production: {y_pred[0]}')\n"
   ]
  }
 ],
 "metadata": {
  "kernelspec": {
   "display_name": "infoenv",
   "language": "python",
   "name": "python3"
  },
  "language_info": {
   "codemirror_mode": {
    "name": "ipython",
    "version": 3
   },
   "file_extension": ".py",
   "mimetype": "text/x-python",
   "name": "python",
   "nbconvert_exporter": "python",
   "pygments_lexer": "ipython3",
   "version": "3.10.12"
  }
 },
 "nbformat": 4,
 "nbformat_minor": 5
}
